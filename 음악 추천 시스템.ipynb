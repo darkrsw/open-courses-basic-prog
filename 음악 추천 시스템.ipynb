{
 "cells": [
  {
   "cell_type": "markdown",
   "metadata": {},
   "source": [
    "# 음악 추천 시스템\n",
    "\n",
    "## 강의 소개\n",
    "본 강의는 Python을 이용하여 `음악 추천 시스템`을 제작하는 과정을 설명한다.\n",
    "\n",
    "## 목적\n",
    "\n",
    "- 최대한 Python기본 기능을 활용하여 통계적인 방법을 이용한 `음악 추천 시스템`을 제작하고 단계적으로 개선하는 과정을 설명한다. \n",
    "- 그리고 주피터 노트북을 사용하여 웹브라우저에서도 쉽게 읽으면서 강의 내용을 따라 갈 수 있게 돕는다. \n",
    "- 또한, `음악 추천 시스템`을 제작하는데 필요한 코드를 모두 포함하고 있어서 적절한 환경만 갖춘다면 바로 웹브라우저에서도 바로 실행해서 결과를 확인할 수 있다. \n",
    "- 단순히 강의 내용을 읽고 실행해보는 것에 그치지 않고, 강의 내용에 포함된 직접 코드를 수정해 볼 수 있어서, 본인의 아이디어를 적용하여, 그 결과가 어떻게 기존의 강의 내용과 어떻게 다른지 확인해 볼 수 있다.\n",
    "\n",
    "\n",
    "## 대상\n",
    "Python의 기본적인 문법과 프로그램의 기본 구조(예: 반복문, 조건문 등)을 이해하고 있다면, 본 강의를 이해할 수 있다. 본 강의는 Python의 기본 기능을 위주로 사용하고 별도의 데이터 공학, 인공지능 라이브러리를 사용하지 않는다. "
   ]
  },
  {
   "attachments": {},
   "cell_type": "markdown",
   "metadata": {},
   "source": [
    "## 음악 추천 시스템 소개\n",
    "\n",
    "음악을 듣는 방법이 기존의 CD, Vinyl과 같은 물리적 매체에서 벗어나 mp3파일을 받아서 휴대용 기기에서 재생하는 것을 지나서 최근에는 스마트폰으로 스트리밍 받아서 듣는 방식으로 진화해 왔다. 이런 방식으로 음악을 듣는 경우, 물리적인 매체나 음원을 소유하는 것이 아니라, 매월 일정 금액을 내고 기간내에는 무제한으로 음악을 스트리밍 받아서 청취하는 경우가 일반적이다. 아래 그림에 나온 것과 같은 다양한 음원 스트리밍 서비스가 이런 구독 방식을 채택하고 있다.\n",
    "\n",
    "![음원스트리밍](./images/mrs1.png)\n",
    "\n",
    "\n",
    "### 음악 추천\n"
   ]
  },
  {
   "cell_type": "code",
   "execution_count": null,
   "metadata": {},
   "outputs": [],
   "source": []
  }
 ],
 "metadata": {
  "kernelspec": {
   "display_name": "Python 3",
   "language": "python",
   "name": "python3"
  },
  "language_info": {
   "codemirror_mode": {
    "name": "ipython",
    "version": 3
   },
   "file_extension": ".py",
   "mimetype": "text/x-python",
   "name": "python",
   "nbconvert_exporter": "python",
   "pygments_lexer": "ipython3",
   "version": "3.9.5"
  }
 },
 "nbformat": 4,
 "nbformat_minor": 5
}
