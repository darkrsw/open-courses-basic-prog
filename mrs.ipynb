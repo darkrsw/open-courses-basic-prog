{
 "cells": [
  {
   "cell_type": "markdown",
   "id": "f344705b",
   "metadata": {},
   "source": [
    "# 음악 추천 시스템\n",
    "\n",
    "## 강의 소개\n",
    "본 강의는 Python을 이용하여 `음악 추천 시스템`을 제작하는 과정을 설명한다.\n",
    "\n",
    "## 목적\n",
    "\n",
    "- 최대한 Python기본 기능을 활용하여 통계적인 방법을 이용한 `음악 추천 시스템`을 제작하고 단계적으로 개선하는 과정을 설명한다. \n",
    "- 그리고 주피터 노트북을 사용하여 웹브라우저에서도 쉽게 읽으면서 강의 내용을 따라 갈 수 있게 돕는다. \n",
    "- 또한, `음악 추천 시스템`을 제작하는데 필요한 코드를 모두 포함하고 있어서 적절한 환경만 갖춘다면 바로 웹브라우저에서도 바로 실행해서 결과를 확인할 수 있다. \n",
    "- 단순히 강의 내용을 읽고 실행해보는 것에 그치지 않고, 강의 내용에 포함된 직접 코드를 수정해 볼 수 있어서, 본인의 아이디어를 적용하여, 그 결과가 어떻게 기존의 강의 내용과 어떻게 다른지 확인해 볼 수 있다.\n",
    "\n",
    "\n",
    "## 대상\n",
    "Python의 기본적인 문법과 프로그램의 기본 구조(예: 반복문, 조건문 등)을 이해하고 있다면, 본 강의를 이해할 수 있다. 본 강의는 Python의 기본 기능을 위주로 사용하고 별도의 데이터 공학, 인공지능 라이브러리를 사용하지 않는다. "
   ]
  },
  {
   "cell_type": "markdown",
   "id": "8f71dead",
   "metadata": {},
   "source": [
    "## 음악 추천 시스템 소개\n",
    "\n",
    "### 음악 스트리밍 서비스\n",
    "\n",
    "음악을 듣는 방법이 기존의 CD, Vinyl과 같은 물리적 매체에서 벗어나 mp3파일을 받아서 휴대용 기기에서 재생하는 것을 지나서 최근에는 스마트폰으로 스트리밍 받아서 듣는 방식으로 진화해 왔다. 이런 방식으로 음악을 듣는 경우, 물리적인 매체나 음원을 소유하는 것이 아니라, 매월 일정 금액을 내고 기간내에는 무제한으로 음악을 스트리밍 받아서 청취하는 경우가 일반적이다. 아래 그림에 나온 것과 같은 다양한 음원 스트리밍 서비스가 이런 구독 방식을 채택하고 있다.\n",
    "\n",
    "![음원스트리밍](images/mrs1.png)\n",
    "\n",
    "\n",
    "### 음악 추천\n",
    "음악, 영화, 드라마와 같은 미디어를 제공하는 서비스는 고객/구독자가 계속 그 서비스를 사용 할 수 있도록 관심이 있을 만한 새로운 미디어를 지속적으로 추천한다. 음악 스트리밍 서비스의 경우, 아래 그림과 같이 어떤 사용자가 지금까지 청취하였던 음악의 목록을 기반으로 그 사용자가 관심을 가질 만한 비슷한 음악의 목록을 추천하여서 계속 같은 서비스를 이용 할 수 있도록 한다.\n",
    "\n",
    "\n",
    "![음원추천](images/mrs2.png)\n",
    "\n",
    "\n",
    "위와 같은 과정을 정형화하면, 다음과 같은 함수로 모델링이 가능하다.\n",
    "***\n",
    "$S_r = Recommend( S_u )$\n",
    "\n",
    "$S_u = \\{S_i , S_j , S_k , \\ldots , S_m \\}$\n",
    "\n",
    "$S_r = \\{S_a , S_b , S_c , \\ldots , S_m \\}$\n",
    "\n",
    "$S_u \\bigcap S_r = \\emptyset$\n",
    "***\n",
    "\n",
    "사용자가 지금까지 청취한 음악의 집합을 $S_u = \\{S_i , S_j , S_k , \\ldots , S_m \\}$라고 했을 때, 추천 함수 $Recommend( S_u )$는 주어진 집합을 기반으로 그 사용자가 듣고 싶어 할만한 음악의 집합을 $S_r = \\{S_a , S_b , S_c , \\ldots , S_m \\}$와 같은 형태로 제시한다. 이 때, 두 집합 $S_u$와 $S_r$은 서로 소이다. 위와 같은 함수를 Python으로 구현하면 다음과 같다."
   ]
  },
  {
   "cell_type": "code",
   "execution_count": null,
   "id": "3fb9a6de",
   "metadata": {},
   "outputs": [],
   "source": []
  },
  {
   "cell_type": "code",
   "execution_count": null,
   "id": "73d36d01",
   "metadata": {},
   "outputs": [],
   "source": [
    "def recommend(song_list):\n",
    "    \"\"\"\n",
    "    :song_list: 사용자가 지금까지 청취한 음악의 집합\n",
    "    \"\"\"\n",
    "    pass\n",
    "\n",
    "\n",
    "# userid 에 해당하는 사용자의 음악 청취 기록 집합\n",
    "list_of_songs = get_song_list(userid)\n",
    "\n",
    "# 추천받은 음악 집합\n",
    "recommended_songs = recommend(list_of_songs)"
   ]
  },
  {
   "cell_type": "markdown",
   "id": "59784ddd",
   "metadata": {},
   "source": [
    "위 함수에서 입력 값과 출력 값은 모두 집합이다. 일반적으로 청취 기록에서 음악을 청취한 순서는 추천시스템에서 중요한 정보가 아니므로 중복이 있을 수 있는 리스트가 아니라, 중복이 허용되지 않는 집합이다. 이 과목의 목표는 `def recommend(song_list)`를 효과적으로 구현하는데 있다.\n",
    "\n",
    "\n",
    "## 일반적인 음악 추천 시스템의 아키텍처\n",
    "\n",
    "![음원추천](images/mrs3.png)\n",
    "\n",
    "음악 추천 시스템은 일반적으로 위와 같은 아키텍처를 갖는다.\n",
    "\n",
    "### 인터페이스\n",
    "웹 (또는 모바일 앱) 인터페이스를 통해서 추천 요청을 생성하면, 추천 시스템이 그 요청을 받아서 사용자가 관심이 있어할 만한 음악의 집합을 다시 인터페이스를 통해서 전달한다. \n",
    "\n",
    "### 음악 추천 시스템\n",
    "추천할 음악을 결정하는 단계에서 다양한 방법을 사용할 수 있다. 단순히 통계적으로 모든 사람들이 많이 듣는 음악을 추천해 줄 수 도 있고(가장 간단한 방법중에 하나이다), 비슷한 사용자를 찾아서 그 사용자가 들었던 음악중에 중복되지 않는 음악을 추천해 줄 수도 있다. 그외에는 다양한 기계학습 방법을 이용하여 추천 모델을 학습한 다음에 그 모델이 생성하는 음악의 집합중에 중복되지 않는 부분 집합을 추천하는 것도 방법이다. \n",
    "\n",
    "### 데이터베이스 \n",
    "다른 사용들이 이제까지 들었던 음악의 청취 기록을 저장하기 위해서 데이터베이스가 아키텍처에 포함되어야 한다. 이 기록은 통계적인 방법이나 기계학습 기술을 이용한 음악 추천 모델을 학습 시키는데 필요한 정보이다."
   ]
  },
  {
   "cell_type": "code",
   "execution_count": null,
   "id": "1df2a87b",
   "metadata": {},
   "outputs": [],
   "source": []
  },
  {
   "cell_type": "markdown",
   "id": "dbdf8b45",
   "metadata": {},
   "source": [
    "## 음악 청취 기록 (데이터)\n",
    "본 강의에서는 공개된 [멜론 플레이리스트 데이터](https://arena.kakao.com/c/8/data)를 이용하여 음악 추천 시스템을 구현한다.\n",
    "그래서 해당 데이터의 구조를 파악하는 것이 중요하다. 위 링크에서 여러가지 파일을 받을 수 있는데 우선 `train.json`의 구조를 살펴보면 다음과 같다.\n"
   ]
  },
  {
   "cell_type": "code",
   "execution_count": null,
   "id": "d162fa6c",
   "metadata": {},
   "outputs": [],
   "source": [
    "[\n",
    "    {\n",
    "        \"tags\": [\n",
    "            \"음악태그1\",\n",
    "            \"음악태그2\",\n",
    "            \"음악태그3\",\n",
    "            \"음악태그4\",\n",
    "            ...\n",
    "            \"음악태그m\",\n",
    "        ],\n",
    "        \"id\": \"플레이리스트ID\",\n",
    "        \"plylst_title\": \"플레이리스트 제목\",\n",
    "        \"songs\": [\n",
    "            노래ID1,\n",
    "            노래ID2,\n",
    "            노래ID3,\n",
    "            ...\n",
    "            노래IDn\n",
    "        ],\n",
    "        \"like_cnt\": \"좋아요개수\",\n",
    "        \"updt_date\": \"해당 플레이리스트가 최종 변경된 시간\"\n",
    "    },\n",
    "    \n",
    "    ...\n",
    "    \n",
    "    {\n",
    "        ...\n",
    "    }\n",
    "]"
   ]
  },
  {
   "cell_type": "markdown",
   "id": "5615a851",
   "metadata": {},
   "source": [
    "위 구조는 `train.json` 파일의 구조를 보여준다. 실제로는 `val.json`, `test.json`도 같은 구조를 가진다.\n",
    "최상위 구조는 플레이리스트의 배열이다.\n",
    "각 플레이리스트는 다음과 같은 속성을 가진다.\n",
    "\n",
    "- `tags`: 플레이리스트를 설명할 수 있는 자연어로 된 태크들의 리스트. 빈 리스트도 허용됨.\n",
    "- `id`: 플레이리스트를 구분하는 고유 ID.\n",
    "- `plylst_title`: 플레이리스트의 제목. 빈 문자열도 허용됨.\n",
    "- `songs`: 플레이리스트에 속해 있는 노래ID의 리스트. 중복 허용 안됨.\n",
    "- `like_cnt`: 다른 사람들이 해당 플레이리스트에 `좋아요`를 누른 횟수\n",
    "- `updt_date`: 해당 플레이리스트가 최종 변경된 시간\n",
    "\n",
    "실제 예제는 다음과 같다."
   ]
  },
  {
   "cell_type": "code",
   "execution_count": null,
   "id": "bf320238",
   "metadata": {},
   "outputs": [],
   "source": [
    "[\n",
    "  {\n",
    "    \"tags\": [\n",
    "      \"<ED><9E><90><EB><A7><81>\",\n",
    "      \"<ED><9C><B4><EC><8B><9D>\",\n",
    "      \"<EB><B0><A4>\",\n",
    "      \"<EC><83><88><EB><B2><BD>\"\n",
    "    ],\n",
    "    \"id\": 147668,\n",
    "    \"plylst_title\": \"To. <ED><9E><98><EB><93><A4><EA><B3><A0> <EC><A7><80><EC><B9><9C> <EB><B6><84><EB><93><A4><EC><97><90><EA><B2><8C>\",\n",
    "    \"songs\": [\n",
    "      663185,\n",
    "      649626,\n",
    "      6855,\n",
    "      188486,\n",
    "      348451,\n",
    "      169945,\n",
    "      512599,\n",
    "      532114,\n",
    "      454528,\n",
    "      418935,\n",
    "      124485,\n",
    "      517372,\n",
    "      549950,\n",
    "      540588,\n",
    "      500931,\n",
    "      233641,\n",
    "      331055,\n",
    "      490266,\n",
    "      268515,\n",
    "      531820,\n",
    "      413762,\n",
    "      422713,\n",
    "      522895,\n",
    "      6925,\n",
    "      615815,\n",
    "      672550,\n",
    "      379112,\n",
    "      80972,\n",
    "      227036,\n",
    "      112153\n",
    "    ],\n",
    "    \"like_cnt\": 12,\n",
    "    \"updt_date\": \"2016-06-23 10:06:27.000\"\n",
    "  },\n",
    "\n",
    "  ...\n",
    "    \n",
    "]"
   ]
  },
  {
   "cell_type": "markdown",
   "id": "49d4db34",
   "metadata": {},
   "source": [
    "한글로 된 태그나 플레이리스트 제목은 unicode로 인코딩되어 있어서 위와 같이 나온다. 참고로, 태그나 플레이리스트에 있는 명사나 동사등을 파싱에서 사용할 예정이라면, 추천 시스템에서 unicode를 디코딩해서 사용해야 한다.\n",
    "\n",
    "### 노래 메타 데이터\n",
    "위 플레이리스트에는 각 노래의 ID만 기록되어 있다. 개별 노래는 여러가지 속성을 가지는데, 그 정보는 `song_meta.json`파일에 다음과 같은 형태로 기록되어 있다."
   ]
  },
  {
   "cell_type": "code",
   "execution_count": null,
   "id": "c5af0c0e",
   "metadata": {},
   "outputs": [],
   "source": [
    "[\n",
    "    {\n",
    "        \"song_gn_dtl_gnr_basket\": [\n",
    "            \"세부장르ID1\",\n",
    "            \"세부장르ID2\",\n",
    "            ...\n",
    "            \"세부장르IDk\"\n",
    "        ],\n",
    "        \"issue_date\": \"노래발표날짜\",\n",
    "        \"album_name\": \"노래가 수록된 앨범 제목\",\n",
    "        \"album_id\": \"노래가 수록된 앨범 ID\",\n",
    "        \"artist_id_basket\": [\n",
    "            \"아티스트ID1\",\n",
    "            \"아티스트ID2\",\n",
    "            ...\n",
    "            \"아티스트IDn\"\n",
    "        ],\n",
    "        \"song_name\": \"노래 제목\",\n",
    "        \"song_gn_gnr_basket\": [\n",
    "            \"장르ID1\",\n",
    "            \"장르ID2\",\n",
    "            ...\n",
    "            \"장르IDm\"\n",
    "        ],\n",
    "        \"artist_name_basket\": [\n",
    "            \"아티스트이름1\",\n",
    "            \"아티스트이름2\",\n",
    "            ...\n",
    "            \"아티스트이름p\",\n",
    "        ],\n",
    "        \"id\": 노래ID\n",
    "    },\n",
    "    ...\n",
    "]"
   ]
  },
  {
   "cell_type": "markdown",
   "id": "b608f2e8",
   "metadata": {},
   "source": [
    "최상위 구조는 노래의 배열이다. 각 노래는 다음과 같은 속성을 가진다.\n",
    "\n",
    "- `id`: 노래의 고유 ID; 이 ID가 플레이리스트에 기록된다.\n",
    "- `song_name`: 노래의 제목.\n",
    "- `artist_id_basket`: 노래를 부른 아티스트의 ID 리스트. 하나의 노래를 여러명(또는 여러 밴드)가 부를 수 있으므로 리스트로 기록한다.\n",
    "- `artist_name_basket`: 노래를 부른 아티스트의 이름 리스트.\n",
    "- `issue_date`: 노래가 발표된 날짜.\n",
    "- `album_id`: 노래가 수록된 앨범의 ID.\n",
    "- `album_name`: 노래가 수록된 앨범의 제목.\n",
    "- `song_gn_gnr_basket`: 노래의 장르를 설명하는 장르의 ID 리스트. 하나의 노래는 여러개의 장르로 설명될 수 있으므로 리스트로 기록한다.\n",
    "- `song_gn_dtl_gnr_basket`: 노래의 장르를 설명하는 세부 장르의 ID 리스트.\n",
    "\n",
    "실제 노래의 메타 데이터 예제는 다음과 같다. (한글로 표현된 내용은 unicode로 인코딩되어 있다.)"
   ]
  },
  {
   "cell_type": "code",
   "execution_count": null,
   "id": "bb42affa",
   "metadata": {},
   "outputs": [],
   "source": [
    "[\n",
    "    {\n",
    "        \"song_gn_dtl_gnr_basket\": [\n",
    "            \"GN0901\"\n",
    "        ],\n",
    "        \"issue_date\": \"20140512\",\n",
    "        \"album_name\": \"\\ubd88\\ud6c4\\uc758 \\uba85\\uace1 - 7080 \\ucd94\\uc5b5\\uc758 \\uc584\\uac1c\\uc2dc\\ub300 \\ud31d\\uc1a1\\ubca0\\uc2a4\\ud2b8\",\n",
    "        \"album_id\": 2255639,\n",
    "        \"artist_id_basket\": [\n",
    "            2727\n",
    "        ],\n",
    "        \"song_name\": \"Feelings\",\n",
    "        \"song_gn_gnr_basket\": [\n",
    "            \"GN0900\"\n",
    "        ],\n",
    "        \"artist_name_basket\": [\n",
    "            \"Various Artists\"\n",
    "        ],\n",
    "        \"id\": 0\n",
    "    },\n",
    "    ...\n",
    "]"
   ]
  },
  {
   "cell_type": "markdown",
   "id": "a07bea82",
   "metadata": {},
   "source": [
    "각 장르에 대한 설명은 다음과 같이 `genre_gn_all.json`에 설명되어 있다. (역시 한글로된 설명은 unicode로 인코딩되어 있다.)"
   ]
  },
  {
   "cell_type": "code",
   "execution_count": null,
   "id": "33050c56",
   "metadata": {},
   "outputs": [],
   "source": [
    "{\n",
    "    \"GN0100\": \"\\ubc1c\\ub77c\\ub4dc\",\n",
    "    \"GN0101\": \"\\uc138\\ubd80\\uc7a5\\ub974\\uc804\\uccb4\",\n",
    "    \"GN0102\": \"'80\",\n",
    "    \"GN0103\": \"'90\",\n",
    "    \"GN0104\": \"'00\",\n",
    "    \"GN0105\": \"'10-\",\n",
    "    \"GN0200\": \"\\ub304\\uc2a4\",\n",
    "    \"GN0201\": \"\\uc138\\ubd80\\uc7a5\\ub974\\uc804\\uccb4\",\n",
    "    \"GN0202\": \"'80\",\n",
    "    \"GN0203\": \"'90\",\n",
    "    \"GN0204\": \"'00\",\n",
    "    \"GN0205\": \"'10-\",\n",
    "    \"GN0300\": \"\\ub7a9/\\ud799\\ud569\",\n",
    "    \"GN0301\": \"\\uc138\\ubd80\\uc7a5\\ub974\\uc804\\uccb4\",\n",
    "    \"GN0302\": \"\\ub7a9 \\uc2a4\\ud0c0\\uc77c\",\n",
    "    \"GN0303\": \"\\ubcf4\\uceec \\uc2a4\\ud0c0\\uc77c\",\n",
    "    \"GN0304\": \"\\uc5b8\\ub354\\uadf8\\ub77c\\uc6b4\\ub4dc \\ud799\\ud569\",\n",
    "    \"GN0305\": \"\\uc2dc\\ub300\\ubcc4\",\n",
    "    \"GN0400\": \"R&B/Soul\",\n",
    "    \"GN0401\": \"\\uc138\\ubd80\\uc7a5\\ub974\\uc804\\uccb4\",\n",
    "    \"GN0402\": \"\\uc5b4\\ubc18\",\n",
    "    \"GN0403\": \"R&B\",\n",
    "...\n",
    "}"
   ]
  },
  {
   "cell_type": "markdown",
   "id": "7637b095",
   "metadata": {},
   "source": [
    "## 데이터 읽기어기 & 내보내기\n",
    "\n",
    "### JSON\n",
    "위의 모든 데이터는 `json` 형식으로 저장되어 있다. JSON은 JavaScript Object Notation의 약자로 원래는 JavaScript로 짜여진 프로그램에서 데이터를 표현하고 저장하며, 전송하기 위해서 정의되었다. 하지만, 편의성, 가독성이 높아서 이제는 다양한 언어에서 보편적으로 사용하는 데이터 형식으로 자리 잡았다. 특히 웹 응용프로그램이나 모바일 앱 등에서 자주 사용되는 데이터 형식이다. 자세한 내용은 JSON 공식 홈페이지인 https://www.json.org/ 에서 찾아보길 바란다.\n",
    "\n",
    "다음은 JSON데이터 형식의 예제이다.\n",
    "\n",
    "```\n",
    "{\"menu\": {\n",
    "  \"id\": \"file\",\n",
    "  \"value\": \"File\",\n",
    "  \"popup\": {\n",
    "    \"menuitem\": [\n",
    "      {\"value\": \"New\", \"onclick\": \"CreateNewDoc()\"},\n",
    "      {\"value\": \"Open\", \"onclick\": \"OpenDoc()\"},\n",
    "      {\"value\": \"Close\", \"onclick\": \"CloseDoc()\"}\n",
    "    ]\n",
    "  }\n",
    "}}\n",
    "```\n",
    "\n",
    "\n",
    "#### Python에서 JSON 데이터 읽기\n",
    "\n",
    "JSON형식의 데이터는 Python의 기본 데이터 형식과 매우 잘 호환된다. JSON에서 자주 사용되는 데이터 타입은 다음과 같다.\n",
    "\n",
    "- Booelan 타입: `true` 또는 `false`\n",
    "- 숫자\n",
    "- 문자열\n",
    "- 배열\n",
    "- 객체(Python의 dictionary 타입과 같음)\n",
    "\n",
    "특히 객체 형식을 이용해서 계층적인 데이터도 쉽게 표현할 수 있어서 다양한 언어에서 자주 사용된다."
   ]
  },
  {
   "cell_type": "markdown",
   "id": "86b91808",
   "metadata": {},
   "source": [
    "Python과 호환이 잘되는 만큼, JSON 데이터 형식을 Python에서 읽는 것도 매우 간단하다. 다음의 프로그램은 임의의 문자열로부터 JSON데이터를 읽어오는 예제이다."
   ]
  },
  {
   "cell_type": "code",
   "execution_count": 1,
   "id": "39faca58",
   "metadata": {},
   "outputs": [
    {
     "name": "stdout",
     "output_type": "stream",
     "text": [
      "Glucose\n",
      "True\n",
      "['Hexose', 'Fructose']\n"
     ]
    }
   ],
   "source": [
    "import json\n",
    "\n",
    "my_json = \"\"\"[\n",
    "    {\n",
    "        \"name\": \"Glucose\", \"formula\": \"C6H12O6\",\n",
    "        \"id\": 79025,\n",
    "        \"similarTo\": [\"Hexose\", \"Fructose\"],\n",
    "        \"biological\": true\n",
    "    } \n",
    "]\"\"\"\n",
    "\n",
    "obj = json.loads(my_json)\n",
    "\n",
    "print(obj[0][\"name\"])\n",
    "print(obj[0][\"biological\"])\n",
    "print(obj[0][\"similarTo\"])"
   ]
  },
  {
   "cell_type": "markdown",
   "id": "59d7d6dc",
   "metadata": {},
   "source": [
    "위 예제에서는 가장 최상위 타입이 배열이라서 `obj[0][\"...\"]`와 같은 형식으로 배열의 index를 먼저 지정하고 그 안의 객체를 읽어온다. 만약에 최상위 타입이 객체라면 다음과 같이 접근하면 된다."
   ]
  },
  {
   "cell_type": "code",
   "execution_count": 2,
   "id": "e6e2b1df",
   "metadata": {},
   "outputs": [
    {
     "name": "stdout",
     "output_type": "stream",
     "text": [
      "Glucose\n",
      "True\n",
      "['Hexose', 'Fructose']\n"
     ]
    }
   ],
   "source": [
    "import json\n",
    "\n",
    "my_json_noarray = \"\"\"\n",
    "    {\n",
    "        \"name\": \"Glucose\", \"formula\": \"C6H12O6\",\n",
    "        \"id\": 79025,\n",
    "        \"similarTo\": [\"Hexose\", \"Fructose\"],\n",
    "        \"biological\": true\n",
    "    } \n",
    "\"\"\"\n",
    "\n",
    "obj = json.loads(my_json_noarray)\n",
    "\n",
    "print(obj[\"name\"])\n",
    "print(obj[\"biological\"])\n",
    "print(obj[\"similarTo\"])"
   ]
  },
  {
   "cell_type": "markdown",
   "id": "782018fc",
   "metadata": {},
   "source": [
    "일반적인 경우에는 위와 같이 문자열에서 JSON데이터를 읽어오는 경우보다는 `.json` 파일에서 직접 데이터를 읽어오는 경우가 많을 것이다. 이런 경우에는 다음과 같이 파일에서 직접 JSON형식의 데이터를 읽어 올 수 있다."
   ]
  },
  {
   "cell_type": "code",
   "execution_count": 6,
   "id": "586abf39",
   "metadata": {},
   "outputs": [
    {
     "name": "stdout",
     "output_type": "stream",
     "text": [
      "Glucose\n",
      "True\n",
      "['Hexose', 'Fructose']\n"
     ]
    }
   ],
   "source": [
    "import json\n",
    "\n",
    "with open(\"./data/someFile.json\", \"r\") as f:\n",
    "    obj = json.load(f)\n",
    "    print(obj[\"name\"])\n",
    "    print(obj[\"biological\"])\n",
    "    print(obj[\"similarTo\"])"
   ]
  },
  {
   "cell_type": "markdown",
   "id": "f60ae405",
   "metadata": {},
   "source": [
    "#### JSON 데이터 내보내기\n",
    "\n",
    "Python의 데이터는 비교적 쉽게 JSON형식의 문자열로 변환할 수 있고, 파일로 내보낼 수 있다. 우선 데이터를 JSON형식으로 변환하는 것은 다음과 같이 할 수 있다."
   ]
  },
  {
   "cell_type": "code",
   "execution_count": 9,
   "id": "9cb15dfd",
   "metadata": {},
   "outputs": [
    {
     "name": "stdout",
     "output_type": "stream",
     "text": [
      "{\"name\": \"my_name\", \"dept\": \"my_department\", \"location\": \"my_location\", \"data\": {\"first\": 1, \"second\": 2, \"hundred\": 100}}\n"
     ]
    }
   ],
   "source": [
    "import json\n",
    "\n",
    "# 파이선 Dictionary 데이터\n",
    "my_dict = {\n",
    "    \"name\": \"my_name\",\n",
    "    \"dept\": \"my_department\",\n",
    "    \"location\": \"my_location\"\n",
    "}\n",
    "\n",
    "my_data = {\n",
    "    \"first\": 1,\n",
    "    \"second\": 2,\n",
    "    \"hundred\": 100\n",
    "}\n",
    "\n",
    "\n",
    "my_dict[\"data\"] = my_data\n",
    "\n",
    "# JSON형식의 문자열로 변환\n",
    "result = json.dumps(my_dict)\n",
    "\n",
    "# JSON형식으로 변환된 것을 확인\n",
    "print(result)"
   ]
  },
  {
   "cell_type": "markdown",
   "id": "bff49966",
   "metadata": {},
   "source": [
    "위 예제처럼, `json.dumps(...)` 함수를 이용하여 계층 구조를 가진 데이터를 비롯해서 다양한 구조를 가진 데이터를 문제없이 변환할 수 있다."
   ]
  },
  {
   "cell_type": "markdown",
   "id": "f98d4f3f",
   "metadata": {},
   "source": [
    "Python의 데이터를 쉽게 파일로 출력할 수도 있다. 다음과 같이 `json.dump(저장할 데이터, 파일 객체)`를 이용하면 별도의 변환 과정 없이 파일로 내보낼 수 있다.\n"
   ]
  },
  {
   "cell_type": "code",
   "execution_count": 12,
   "id": "81346839",
   "metadata": {},
   "outputs": [],
   "source": [
    "import json\n",
    "\n",
    "# 파이선 Dictionary 데이터\n",
    "my_dict = {\n",
    "    \"name\": \"my_name\",\n",
    "    \"dept\": \"my_department\",\n",
    "    \"location\": \"my_location\"\n",
    "}\n",
    "\n",
    "my_data = {\n",
    "    \"first\": 1,\n",
    "    \"second\": 2,\n",
    "    \"hundred\": 100\n",
    "}\n",
    "\n",
    "\n",
    "my_dict[\"data\"] = my_data\n",
    "\n",
    "\n",
    "with open(\"myFile.json\", \"w\") as f:\n",
    "    json.dump(my_dict, f)"
   ]
  },
  {
   "cell_type": "markdown",
   "id": "93473c74",
   "metadata": {},
   "source": [
    "여기서 주의할 점은 `json.dumps(...)`는 데이터를 JSON형식의 문자열로 변환하는 함수이고, `json.dump(...)`는 데이터를 JSON형식의 파일로 내보내는 함수이다. 두 함수의 이름이 비슷하니 주의가 필요하다."
   ]
  },
  {
   "cell_type": "markdown",
   "id": "12931510",
   "metadata": {},
   "source": [
    "Python데이터 형식과 JSON데이터 형식과의 관계는 다음 표와 같다.\n",
    "\n",
    "|Python데이터 형식|JSON데이터 형식|\n",
    "|------|---|\n",
    "|dict|Object|\n",
    "|list|Array|\n",
    "|tuple|Array|\n",
    "|str|String|\n",
    "|int|Number|\n",
    "|float|Number|\n",
    "|True|true|\n",
    "|False|false|\n",
    "|None|null|"
   ]
  },
  {
   "cell_type": "markdown",
   "id": "94a33766",
   "metadata": {},
   "source": [
    "### CSV\n",
    "\n",
    "본 강의에서 다루는 음악 추천 시스템에서는 사용하지 않지만, 유용한 데이터 형식 중의 하나가 CSV(Comma-Separated Values)이다. 구조가 단순하고, 모든 행이 같은 열 개수를 가진 데이터를 표현하는데 유용하다. 단, JSON형식에서는 가능한 계층 구조의 데이터는 CSV에서는 표현하기 어렵다.\n",
    "\n",
    "다음은 CSV데이터 형식의 예제이다.\n",
    "\n",
    "```\n",
    "John,Doe,120 jefferson st.,Riverside, NJ, 08075\n",
    "Jack,McGinnis,220 hobo Av.,Phila, PA,09119\n",
    "\"John \"\"Da Man\"\"\",Repici,120 Jefferson St.,Riverside, NJ,08075\n",
    "Stephen,Tyler,\"7452 Terrace \"\"At the Plaza\"\" road\",SomeTown,SD, 91234\n",
    ",Blankman,,SomeTown, SD, 00298\n",
    "\"Joan \"\"the bone\"\", Anne\",Jet,\"9th, at Terrace plc\",Desert City,CO,00123\n",
    "```\n",
    "\n",
    "#### Python에서 CSV 읽기\n",
    "\n",
    "JSON만큼, CSV파일을 Python에서 읽어오는 작업은 간단하다. 다음 프로그램에서 예제를 보여준다.\n"
   ]
  },
  {
   "cell_type": "code",
   "execution_count": 17,
   "id": "fcb6c07d",
   "metadata": {},
   "outputs": [
    {
     "name": "stdout",
     "output_type": "stream",
     "text": [
      "[['Index', ' \"Mass (kg)\"', ' \"Spring 1 (m)\"', ' \"Spring 2 (m)\"'], [' 1', ' 0.00', ' 0.050', ' 0.050 '], [' 2', ' 0.49', ' 0.066', ' 0.066'], [' 3', ' 0.98', ' 0.087', ' 0.080'], [' 4', ' 1.47', ' 0.116', ' 0.108'], [' 5', ' 1.96', ' 0.142', ' 0.138'], [' 6', ' 2.45', ' 0.166', ' 0.158'], [' 7', ' 2.94', ' 0.193', ' 0.174'], [' 8', ' 3.43', ' 0.204', ' 0.192'], [' 9', ' 3.92', ' 0.226', ' 0.205'], ['10', ' 4.41', ' 0.238', ' 0.232']]\n"
     ]
    }
   ],
   "source": [
    "import csv\n",
    "\n",
    "with open(\"data/hooke.csv\") as f:\n",
    "    table = [row for row in csv.reader(f)]\n",
    "    print(table)"
   ]
  },
  {
   "cell_type": "markdown",
   "id": "2408d73e",
   "metadata": {},
   "source": [
    "일반적으로 CSV형태의 데이터는 Python에서 리스트의 리스트 형태로 표현된다. 위 예제의 결과도 출력해보면, 여러개의 리스트를 가진 리스트로 표현된다."
   ]
  },
  {
   "cell_type": "markdown",
   "id": "ce4509ec",
   "metadata": {},
   "source": [
    "CSV에서 공백이 있는 문자열을 표현하거나, comma(`,`)가 포함된 문자열을 표현하기 위해서 쌍따옴표를 사용하는 경우가 있다. 위 예제는 쌍따옴표를 자동으로 인식하였는데(일부만 제대로 인식한다. 이 문제의 해결방법은 곧 다루도록 한다.), 쌍따옴표가 아니라 다른 문자를 사용할 수 있다. 이런 경우 아래 예제와 같이 `csv.reader(...)`함수에 `quotechar='|'`처럼 옵션을 추가해서 처리할 수 있다."
   ]
  },
  {
   "cell_type": "code",
   "execution_count": 25,
   "id": "4ca26336",
   "metadata": {},
   "outputs": [
    {
     "name": "stdout",
     "output_type": "stream",
     "text": [
      "[['\"Index\"', ' \"Mass (kg)\"', ' \"Spring 1 (m)\"', ' \"Spring 2 (m)\"'], [' 1', ' 0.00', ' 0.050', ' 0.050 '], [' 2', ' 0.49', ' 0.066', ' 0.066'], [' 3', ' 0.98', ' 0.087', ' 0.080'], [' 4', ' 1.47', ' 0.116', ' 0.108'], [' 5', ' 1.96', ' 0.142', ' 0.138'], [' 6', ' 2.45', ' 0.166', ' 0.158'], [' 7', ' 2.94', ' 0.193', ' 0.174'], [' 8', ' 3.43', ' 0.204', ' 0.192'], [' 9', ' 3.92', ' 0.226', ' 0.205'], ['10', ' 4.41', ' 0.238', ' 0.232']]\n"
     ]
    }
   ],
   "source": [
    "import csv\n",
    "\n",
    "with open(\"data/hooke.csv\") as f:\n",
    "    table = [row for row in csv.reader(f, quotechar='|')]\n",
    "    print(table)"
   ]
  },
  {
   "cell_type": "markdown",
   "id": "d354f5df",
   "metadata": {},
   "source": [
    "위 결과를 살펴보면, `\"Index\"`와 같이 쌍따옴표를 문자열의 일부로 인식하고 있다. 이런 경우 반드시 위에서 지정한 `|` 문자를 사용해야 정상적으로 문자열을 인식할 수 있다. `,`을 포함한 문자열등을 인식해야 할 경우에 꼭 이 옵션을 정확히 확인해야 한다."
   ]
  },
  {
   "cell_type": "markdown",
   "id": "78c4b2c8",
   "metadata": {},
   "source": [
    "위 두 가지 예제의 결과를 다시 살펴보면, 쌍따옴표가 있어도 일부 문자열의 쌍따옴표가 문자열의 일부로 인식되어서 정상적인 읽기가 안된 것을 알 수 있다. 인식이 제대로 안된 원인은 `,`문자 이후에 공백이 있어서 쌍따옴표가 문자열의 시작으로 인식이 안된 것이다. 이런 경우에는 `,` 이후의 공백을 자동을 제거한 후에 인식하도록 할 수 있다."
   ]
  },
  {
   "cell_type": "code",
   "execution_count": 1,
   "id": "757eb794",
   "metadata": {},
   "outputs": [
    {
     "name": "stdout",
     "output_type": "stream",
     "text": [
      "[['Index', 'Mass (kg)', 'Spring 1 (m)', 'Spring 2 (m)'], ['1', '0.00', '0.050', '0.050 '], ['2', '0.49', '0.066', '0.066'], ['3', '0.98', '0.087', '0.080'], ['4', '1.47', '0.116', '0.108'], ['5', '1.96', '0.142', '0.138'], ['6', '2.45', '0.166', '0.158'], ['7', '2.94', '0.193', '0.174'], ['8', '3.43', '0.204', '0.192'], ['9', '3.92', '0.226', '0.205'], ['10', '4.41', '0.238', '0.232']]\n"
     ]
    }
   ],
   "source": [
    "import csv\n",
    "\n",
    "with open(\"data/hooke.csv\") as f:\n",
    "    table = [row for row in csv.reader(f, skipinitialspace=True)]\n",
    "    print(table)"
   ]
  },
  {
   "cell_type": "markdown",
   "id": "c00be60a",
   "metadata": {},
   "source": [
    "위 결과를 보면 자동으로 `,`이후의 공백문자를 제거하고 쌍따옴표를 문자열의 시작으로 인식하였다. 그래서 CSV파일의 데이터 부분만 정확하게 인식하여 읽어온 것을 알 수 있다."
   ]
  },
  {
   "cell_type": "markdown",
   "id": "89bf7e82",
   "metadata": {},
   "source": [
    "CSV가 글자 그래도 `,`로 구분된 데이터들의 모임이지만, 경우에 따라서는 `,` 대시에 다른 문자를 구분자(delimiter)로 써야 하는 경우가 있다. 이런 경우에는 다음 프로그램에 나온 것과 같이 `delimiter=` 옵션을 사용하면 된다."
   ]
  },
  {
   "cell_type": "code",
   "execution_count": 2,
   "id": "f2409390",
   "metadata": {},
   "outputs": [
    {
     "name": "stdout",
     "output_type": "stream",
     "text": [
      "[['Index, \"Mass ', 'kg)\", \"Spring 1 ', 'm)\", \"Spring 2 ', 'm)\"'], [' 1, 0.00, 0.050, 0.050 '], [' 2, 0.49, 0.066, 0.066'], [' 3, 0.98, 0.087, 0.080'], [' 4, 1.47, 0.116, 0.108'], [' 5, 1.96, 0.142, 0.138'], [' 6, 2.45, 0.166, 0.158'], [' 7, 2.94, 0.193, 0.174'], [' 8, 3.43, 0.204, 0.192'], [' 9, 3.92, 0.226, 0.205'], ['10, 4.41, 0.238, 0.232']]\n"
     ]
    }
   ],
   "source": [
    "import csv\n",
    "\n",
    "with open(\"data/hooke.csv\") as f:\n",
    "    table = [row for row in csv.reader(f, delimiter='(')]\n",
    "    print(table)"
   ]
  },
  {
   "cell_type": "markdown",
   "id": "3e1dd646",
   "metadata": {},
   "source": [
    "위 결과가 이상하게 보이지만, 지정된 구분자를 이용하여 정확하게 데이터를 구분한 것을 알 수 있다.\n"
   ]
  },
  {
   "cell_type": "markdown",
   "id": "4a2d1c9d",
   "metadata": {},
   "source": [
    "#### Python에서 CSV파일에 데이터 내보내기\n",
    "\n",
    "Python의 데이터를 CSV형식의 파일로 내보내는 것은 읽어오는 만큼이나 간단하다. 물론, 데이터의 형태는 리스트이거나 리스트의 리스트이어야 한다. 아래의 프로그램에서 그 예제를 보여준다."
   ]
  },
  {
   "cell_type": "code",
   "execution_count": 5,
   "id": "cb90d24c",
   "metadata": {},
   "outputs": [],
   "source": [
    "import csv\n",
    "\n",
    "table = [[\"name\", \"formula\", \"id\"], [\"glucose\", \"C6H12O6\", 79025]]\n",
    "\n",
    "with open(\"data/mytable.csv\", \"w\") as f:\n",
    "    csv.writer(f).writerows(table)"
   ]
  },
  {
   "cell_type": "markdown",
   "id": "38680b43",
   "metadata": {},
   "source": [
    "위 프로그램의 결과로 출력되는 파일의 결과는 다음과 같다.\n",
    "\n",
    "```\n",
    "name,formula,id\n",
    "glucose,C6H12O6,79025\n",
    "```"
   ]
  },
  {
   "cell_type": "markdown",
   "id": "9f0d8a82",
   "metadata": {},
   "source": [
    "반드시 모든 행(row)이 같은 개수의 열(column)을 가져야 하는 것은 아니다.\n"
   ]
  },
  {
   "cell_type": "code",
   "execution_count": 7,
   "id": "183e7fa4",
   "metadata": {},
   "outputs": [],
   "source": [
    "import csv\n",
    "\n",
    "table = [[\"name\", \"formula\", \"id\"], [\"glucose\", \"C6H12O6\"]]\n",
    "\n",
    "with open(\"data/mytable.csv\", \"w\") as f:\n",
    "    csv.writer(f).writerows(table)"
   ]
  },
  {
   "cell_type": "markdown",
   "id": "0bda49f8",
   "metadata": {},
   "source": [
    "위 프로그램의 결과로 출력되는 파일은 이전 프로그램과는 다르게 두번째 행에는 두개의 열만 존재한다.\n",
    "\n",
    "```\n",
    "name,formula,id\n",
    "glucose,C6H12O6\n",
    "```"
   ]
  },
  {
   "cell_type": "markdown",
   "id": "357c3ec4",
   "metadata": {},
   "source": [
    "`csv.reader(...)` 함수처럼 `csv.writer(...)`의 기본 구분자는 `,`로 지정되어 있으나 변경이 가능하다."
   ]
  },
  {
   "cell_type": "code",
   "execution_count": 8,
   "id": "4ac6fbd4",
   "metadata": {},
   "outputs": [],
   "source": [
    "import csv\n",
    "\n",
    "table = [[\"name\", \"formula\", \"id\"], [\"glucose\", \"C6H12O6\", 79025]]\n",
    "\n",
    "with open(\"data/mytable.csv\", \"w\") as f:\n",
    "    csv.writer(f, delimiter='|').writerows(table)"
   ]
  },
  {
   "cell_type": "markdown",
   "id": "43f3bbad",
   "metadata": {},
   "source": [
    "위 프로그램에서는 구분자를 `|`로 변경하였고, 그 결과로 출력되는 파일은 다음과 같다.\n",
    "\n",
    "```\n",
    "name|formula|id\n",
    "glucose|C6H12O6|79025\n",
    "```\n"
   ]
  },
  {
   "cell_type": "markdown",
   "id": "9808c114",
   "metadata": {},
   "source": [
    "추가적으로, 모든 개별 데이터를 특정 문자로 둘러싸게 할 수 있다. 즉, 데이터에 구분자로 쓰이는 문자가 포함되어 있는 경우에 이 기능이 유용하게 쓰일 수 있다."
   ]
  },
  {
   "cell_type": "code",
   "execution_count": 10,
   "id": "ca55e0cf",
   "metadata": {},
   "outputs": [],
   "source": [
    "import csv\n",
    "\n",
    "table = [[\"name\", \"formula\", \"id\"], [\"glucose,fat\", \"C6H12O6\", 79025]]\n",
    "\n",
    "with open(\"data/mytable.csv\", \"w\") as f:\n",
    "    csv.writer(f, quoting=csv.QUOTE_ALL).writerows(table)"
   ]
  },
  {
   "cell_type": "markdown",
   "id": "b799aa07",
   "metadata": {},
   "source": [
    "위와 같이, `quoting=csv.QUOTE_ALL` 옵션을 추가해주면, 모든 데이터를 쌍따옴표 또는 지정된 문자(이렇게 하려면 `csv.reader(...)`에서처럼 `quotechar='|'` 옵션을 추가해 주어야 한다)로 둘러싸게된다. 위 프로그램 실행결과로 출력된 파일의 내용은 다음과 같다.\n",
    "\n",
    "```\n",
    "\"name\",\"formula\",\"id\"\n",
    "\"glucose,fat\",\"C6H12O6\",\"79025\"\n",
    "```"
   ]
  },
  {
   "cell_type": "markdown",
   "id": "f2025f7f",
   "metadata": {},
   "source": [
    "### YAML\n",
    "\n",
    "최근에 JSON, CSV와 함께 많이 쓰이는 데이터 형식은 YAML(YAML Ain't Markup Language)형식이다. JSON과 같이 계층형 데이터 형식도 지원하고, 리스트와 dictionary 형태의 데이터도 표현할 수 있다. 그러면서도 JSON보다 간결한 표현 방법을 사용하여 최근에 많은 응용 프로그램에서 사용하고 있다. Python의 경우 PyYAML라이브러리가 YAML 데이터 형식으로 된 파일을 읽고 쓸 수 있게 도와준다. 단, Python의 기본 라이브러리가 아니므로 별도의 설치과정을 거쳐야 한다. 설치 명령어는 다음과 같다.\n",
    "\n",
    "```\n",
    "pip install pyyaml\n",
    "```\n",
    "\n",
    "또는\n",
    "\n",
    "```\n",
    "pip3 install pyyaml\n",
    "```\n",
    "\n",
    "다음은 YAML데이터 형식의 예를 보여준다.\n",
    "\n",
    "```\n",
    "doe: \"a deer, a female deer\"\n",
    " ray: \"a drop of golden sun\"\n",
    " pi: 3.14159\n",
    " xmas: true\n",
    " french-hens: 3\n",
    " calling-birds:\n",
    "   - huey\n",
    "   - dewey\n",
    "   - louie\n",
    "   - fred\n",
    "```"
   ]
  },
  {
   "cell_type": "markdown",
   "id": "803285cb",
   "metadata": {},
   "source": [
    "#### YAML 데이터 읽어오기\n",
    "\n",
    "YAML데이터 형식을 읽어오는 방식은 크게 두가지 있다. 첫째, 문자열에서 바로 읽어오는 방식이다. 다음의 예제 프로그램은 문자열에서 YAML데이터를 읽어오는 방법을 보여준다.\n",
    "\n"
   ]
  },
  {
   "cell_type": "code",
   "execution_count": 16,
   "id": "95ce8b59",
   "metadata": {},
   "outputs": [
    {
     "data": {
      "text/plain": [
       "{'doe': 'a deer, a female deer',\n",
       " 'ray': 'a drop of golden sun',\n",
       " 'pi': 3.14159,\n",
       " 'xmas': True,\n",
       " 'french-hens': 3,\n",
       " 'calling-birds': ['huey', 'dewey', 'louie', 'fred'],\n",
       " 'xmas-fifth-day': {'calling-birds': 'four',\n",
       "  'french-hens': 3,\n",
       "  'golden-rings': 5,\n",
       "  'partridges': {'count': 1, 'location': 'a pear tree'},\n",
       "  'turtle-doves': 'two'}}"
      ]
     },
     "execution_count": 16,
     "metadata": {},
     "output_type": "execute_result"
    }
   ],
   "source": [
    "import yaml\n",
    "\n",
    "mydata = \"\"\"\n",
    "doe: \"a deer, a female deer\"\n",
    "ray: \"a drop of golden sun\"\n",
    "pi: 3.14159\n",
    "xmas: true\n",
    "french-hens: 3\n",
    "calling-birds:\n",
    "  - huey\n",
    "  - dewey\n",
    "  - louie\n",
    "  - fred\n",
    "xmas-fifth-day:\n",
    "  calling-birds: four\n",
    "  french-hens: 3\n",
    "  golden-rings: 5\n",
    "  partridges:\n",
    "    count: 1\n",
    "    location: \"a pear tree\"\n",
    "  turtle-doves: two\n",
    "\"\"\"\n",
    "\n",
    "yaml.load(mydata, Loader=yaml.FullLoader)"
   ]
  },
  {
   "cell_type": "markdown",
   "id": "89f418af",
   "metadata": {},
   "source": [
    "위와 같이 간단히 `yaml.load(...)`함수를 호출하는 것으로 문자열에서 YAML형식의 데이터를 읽어올 수 있다.\n",
    "\n",
    "YAML데이터를 읽어오는 두번째 방법은 YAML형식의 파일에서 데이터를 가져오는 것이다. 다음 프로그램이 그 예를 보여준다.\n"
   ]
  },
  {
   "cell_type": "code",
   "execution_count": 21,
   "id": "ea1903ce",
   "metadata": {},
   "outputs": [
    {
     "name": "stdout",
     "output_type": "stream",
     "text": [
      "execution:\n",
      "- concurrency: 10\n",
      "  hold-for: 5m\n",
      "  ramp-up: 2m\n",
      "  scenario: yaml_example\n",
      "provisioning: local\n",
      "reporting:\n",
      "- module: final-stats\n",
      "- module: console\n",
      "scenarios:\n",
      "  yaml_example:\n",
      "    requests:\n",
      "    - http://example.com/\n",
      "    retrieve-resources: false\n",
      "settings:\n",
      "  check-interval: 5s\n",
      "  default-executor: jmeter\n",
      "\n"
     ]
    }
   ],
   "source": [
    "import yaml\n",
    "\n",
    "\n",
    "with open('data/mydata.yaml') as f:\n",
    "    mydata = yaml.load(f, Loader=yaml.FullLoader)\n",
    "    print(yaml.dump(mydata))"
   ]
  },
  {
   "cell_type": "markdown",
   "id": "1a22bb1a",
   "metadata": {},
   "source": [
    "#### YAML 데이터를 파일로 내보내기\n",
    "\n",
    "Python에서 YAML데이터 형식을 파일을 내보내는 것고 PyYAML라이브러리를 이용하면 된다. Python의 대부분의 데이터 형식이 그대로 YAML데이터로 변환이 가능하며, dictionary, list 등도 자동으로 변환된다. 다음의 프로그램이 그 예를 보여준다."
   ]
  },
  {
   "cell_type": "code",
   "execution_count": 23,
   "id": "d7787582",
   "metadata": {},
   "outputs": [],
   "source": [
    "import yaml\n",
    "\n",
    "my_dict = {\n",
    "    \"name\": \"my_name\",\n",
    "    \"dept\": \"my_department\",\n",
    "    \"location\": \"my_location\"\n",
    "}\n",
    "\n",
    "my_data = {\n",
    "    \"first\": 1,\n",
    "    \"second\": 2,\n",
    "    \"hundred\": 100\n",
    "}\n",
    "\n",
    "\n",
    "my_dict[\"data\"] = my_data\n",
    "\n",
    "\n",
    "with open(\"mydata.yaml\", \"w\") as f:\n",
    "    yaml.dump(my_dict, f)"
   ]
  }
 ],
 "metadata": {
  "kernelspec": {
   "display_name": "Python 3",
   "language": "python",
   "name": "python3"
  },
  "language_info": {
   "codemirror_mode": {
    "name": "ipython",
    "version": 3
   },
   "file_extension": ".py",
   "mimetype": "text/x-python",
   "name": "python",
   "nbconvert_exporter": "python",
   "pygments_lexer": "ipython3",
   "version": "3.9.9"
  }
 },
 "nbformat": 4,
 "nbformat_minor": 5
}
